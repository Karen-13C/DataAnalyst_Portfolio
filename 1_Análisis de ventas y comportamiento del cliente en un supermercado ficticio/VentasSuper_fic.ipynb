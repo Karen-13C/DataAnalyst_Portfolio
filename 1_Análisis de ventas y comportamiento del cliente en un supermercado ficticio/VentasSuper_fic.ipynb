{
 "cells": [
  {
   "cell_type": "markdown",
   "id": "43ef3003",
   "metadata": {},
   "source": [
    "# 1️⃣. Introducción y objetivo del análisis"
   ]
  },
  {
   "cell_type": "markdown",
   "id": "4ad4ec72",
   "metadata": {},
   "source": [
    "## .1. Información de la base de datos"
   ]
  },
  {
   "cell_type": "markdown",
   "id": "22925481",
   "metadata": {},
   "source": [
    "La base de datos es ficticia sobre las ventas de un supermercado tomada de <a href=\"https://www.kaggle.com/datasets/chadwambles/supermarket-sales?resource=download\">Kaggle</a> \n",
    "\n",
    "El creador indica que la base incluye lo siguiente:\n",
    "* ```sale_id```: ID de ventas único para cada fila.\n",
    "* ```branch```: Sucursal del supermercado (New York, Chicago y Los Angeles).\n",
    "* ```city```: Ciudad del supermercado (New York, Chicago y Los Angeles).\n",
    "* ```customer_type```: Tipo de cliente (Member o Normal). Los miembros reciben puntos de recompensa.\n",
    "* ```gender```: Género (Male o Female).\n",
    "* ```product_name```: Nombre del producto vendido.\n",
    "* ```product_category```: Categoría del producto vendido.\n",
    "* ```unit_price```: Precio unitario de cada producto vendido.\n",
    "* ```quantity```: Cantidad del producto vendido.\n",
    "* ```tax```: 7% de impuesto sobre las ventas de cada producto.\n",
    "* ```total_price```: Precio total del producto después de impuestos.\n",
    "* ```reward_points```: Puntos de recompensa solo para miembros.\n",
    "\n",
    "La moneda se supondrá en dólares ($)"
   ]
  },
  {
   "cell_type": "markdown",
   "id": "662d9fa5",
   "metadata": {},
   "source": [
    "## .2. Objetivo"
   ]
  },
  {
   "cell_type": "markdown",
   "id": "c31af22b",
   "metadata": {},
   "source": [
    "Analizar ventas y comportamiento de clientes en un supermercado ficticio para obtener insights de negocio."
   ]
  },
  {
   "cell_type": "markdown",
   "id": "478b991a",
   "metadata": {},
   "source": [
    "## .3. Preguntas de investigación"
   ]
  },
  {
   "cell_type": "markdown",
   "id": "90972e19",
   "metadata": {},
   "source": [
    "1. Ventas y rentabilidad\n",
    "    * ¿Qué ciudad genera mayores ingresos totales?\n",
    "\n",
    "    * ¿Qué día de la semana tiene mayor facturación?\n",
    "\n",
    "    * ¿Cuál es el ticket promedio de compra?\n",
    "\n",
    "2. Clientes\n",
    "    * ¿Los miembros gastan más que los clientes normales?\n",
    "\n",
    "    * ¿Hay diferencia en gasto por género?\n",
    "\n",
    "3. Productos\n",
    "    * ¿Qué categoría aporta más ingresos?\n",
    "\n",
    "    * ¿Qué productos se venden en mayor cantidad vs. los que generan más dinero?\n",
    "\n",
    "4. KPIs prácticos\n",
    "    * Ventas totales 💰\n",
    "\n",
    "    * Ticket promedio 🧾\n",
    "\n",
    "    * Número de clientes únicos 👥\n",
    "\n",
    "    * Top 5 productos más vendidos 📦"
   ]
  },
  {
   "cell_type": "markdown",
   "id": "1ff4816c",
   "metadata": {},
   "source": [
    "# 2️⃣. Carga y exploración de datos"
   ]
  },
  {
   "cell_type": "markdown",
   "id": "d2b0b93b",
   "metadata": {},
   "source": [
    "## .1. Carga"
   ]
  },
  {
   "cell_type": "code",
   "execution_count": 1,
   "id": "8b30dd99",
   "metadata": {},
   "outputs": [],
   "source": [
    "import pandas as pd\n",
    "import numpy as np\n",
    "import matplotlib.pyplot as plt\n",
    "import seaborn as sns"
   ]
  },
  {
   "cell_type": "code",
   "execution_count": 2,
   "id": "fa8b8670",
   "metadata": {},
   "outputs": [
    {
     "data": {
      "text/html": [
       "<div>\n",
       "<style scoped>\n",
       "    .dataframe tbody tr th:only-of-type {\n",
       "        vertical-align: middle;\n",
       "    }\n",
       "\n",
       "    .dataframe tbody tr th {\n",
       "        vertical-align: top;\n",
       "    }\n",
       "\n",
       "    .dataframe thead th {\n",
       "        text-align: right;\n",
       "    }\n",
       "</style>\n",
       "<table border=\"1\" class=\"dataframe\">\n",
       "  <thead>\n",
       "    <tr style=\"text-align: right;\">\n",
       "      <th></th>\n",
       "      <th>branch</th>\n",
       "      <th>city</th>\n",
       "      <th>customer_type</th>\n",
       "      <th>gender</th>\n",
       "      <th>product_name</th>\n",
       "      <th>product_category</th>\n",
       "      <th>unit_price</th>\n",
       "      <th>quantity</th>\n",
       "      <th>tax</th>\n",
       "      <th>total_price</th>\n",
       "      <th>reward_points</th>\n",
       "    </tr>\n",
       "    <tr>\n",
       "      <th>sale_id</th>\n",
       "      <th></th>\n",
       "      <th></th>\n",
       "      <th></th>\n",
       "      <th></th>\n",
       "      <th></th>\n",
       "      <th></th>\n",
       "      <th></th>\n",
       "      <th></th>\n",
       "      <th></th>\n",
       "      <th></th>\n",
       "      <th></th>\n",
       "    </tr>\n",
       "  </thead>\n",
       "  <tbody>\n",
       "    <tr>\n",
       "      <th>1</th>\n",
       "      <td>A</td>\n",
       "      <td>New York</td>\n",
       "      <td>Member</td>\n",
       "      <td>Male</td>\n",
       "      <td>Shampoo</td>\n",
       "      <td>Personal Care</td>\n",
       "      <td>5.50</td>\n",
       "      <td>3</td>\n",
       "      <td>1.16</td>\n",
       "      <td>17.66</td>\n",
       "      <td>1</td>\n",
       "    </tr>\n",
       "    <tr>\n",
       "      <th>2</th>\n",
       "      <td>B</td>\n",
       "      <td>Los Angeles</td>\n",
       "      <td>Normal</td>\n",
       "      <td>Female</td>\n",
       "      <td>Notebook</td>\n",
       "      <td>Stationery</td>\n",
       "      <td>2.75</td>\n",
       "      <td>10</td>\n",
       "      <td>1.93</td>\n",
       "      <td>29.43</td>\n",
       "      <td>0</td>\n",
       "    </tr>\n",
       "    <tr>\n",
       "      <th>3</th>\n",
       "      <td>A</td>\n",
       "      <td>New York</td>\n",
       "      <td>Member</td>\n",
       "      <td>Female</td>\n",
       "      <td>Apple</td>\n",
       "      <td>Fruits</td>\n",
       "      <td>1.20</td>\n",
       "      <td>15</td>\n",
       "      <td>1.26</td>\n",
       "      <td>19.26</td>\n",
       "      <td>1</td>\n",
       "    </tr>\n",
       "    <tr>\n",
       "      <th>4</th>\n",
       "      <td>A</td>\n",
       "      <td>Chicago</td>\n",
       "      <td>Normal</td>\n",
       "      <td>Male</td>\n",
       "      <td>Detergent</td>\n",
       "      <td>Household</td>\n",
       "      <td>7.80</td>\n",
       "      <td>5</td>\n",
       "      <td>2.73</td>\n",
       "      <td>41.73</td>\n",
       "      <td>0</td>\n",
       "    </tr>\n",
       "    <tr>\n",
       "      <th>5</th>\n",
       "      <td>B</td>\n",
       "      <td>Los Angeles</td>\n",
       "      <td>Member</td>\n",
       "      <td>Female</td>\n",
       "      <td>Orange Juice</td>\n",
       "      <td>Beverages</td>\n",
       "      <td>3.50</td>\n",
       "      <td>7</td>\n",
       "      <td>1.72</td>\n",
       "      <td>26.22</td>\n",
       "      <td>2</td>\n",
       "    </tr>\n",
       "    <tr>\n",
       "      <th>...</th>\n",
       "      <td>...</td>\n",
       "      <td>...</td>\n",
       "      <td>...</td>\n",
       "      <td>...</td>\n",
       "      <td>...</td>\n",
       "      <td>...</td>\n",
       "      <td>...</td>\n",
       "      <td>...</td>\n",
       "      <td>...</td>\n",
       "      <td>...</td>\n",
       "      <td>...</td>\n",
       "    </tr>\n",
       "    <tr>\n",
       "      <th>996</th>\n",
       "      <td>A</td>\n",
       "      <td>New York</td>\n",
       "      <td>Member</td>\n",
       "      <td>Female</td>\n",
       "      <td>Shampoo</td>\n",
       "      <td>Stationery</td>\n",
       "      <td>1.55</td>\n",
       "      <td>11</td>\n",
       "      <td>1.19</td>\n",
       "      <td>18.24</td>\n",
       "      <td>1</td>\n",
       "    </tr>\n",
       "    <tr>\n",
       "      <th>997</th>\n",
       "      <td>A</td>\n",
       "      <td>New York</td>\n",
       "      <td>Member</td>\n",
       "      <td>Male</td>\n",
       "      <td>Detergent</td>\n",
       "      <td>Personal Care</td>\n",
       "      <td>2.44</td>\n",
       "      <td>7</td>\n",
       "      <td>1.20</td>\n",
       "      <td>18.28</td>\n",
       "      <td>1</td>\n",
       "    </tr>\n",
       "    <tr>\n",
       "      <th>998</th>\n",
       "      <td>A</td>\n",
       "      <td>New York</td>\n",
       "      <td>Member</td>\n",
       "      <td>Female</td>\n",
       "      <td>Shampoo</td>\n",
       "      <td>Stationery</td>\n",
       "      <td>17.92</td>\n",
       "      <td>2</td>\n",
       "      <td>2.51</td>\n",
       "      <td>38.35</td>\n",
       "      <td>3</td>\n",
       "    </tr>\n",
       "    <tr>\n",
       "      <th>999</th>\n",
       "      <td>A</td>\n",
       "      <td>New York</td>\n",
       "      <td>Member</td>\n",
       "      <td>Female</td>\n",
       "      <td>Shampoo</td>\n",
       "      <td>Beverages</td>\n",
       "      <td>17.41</td>\n",
       "      <td>4</td>\n",
       "      <td>4.87</td>\n",
       "      <td>74.51</td>\n",
       "      <td>7</td>\n",
       "    </tr>\n",
       "    <tr>\n",
       "      <th>1000</th>\n",
       "      <td>A</td>\n",
       "      <td>New York</td>\n",
       "      <td>Normal</td>\n",
       "      <td>Male</td>\n",
       "      <td>Orange Juice</td>\n",
       "      <td>Stationery</td>\n",
       "      <td>4.11</td>\n",
       "      <td>4</td>\n",
       "      <td>1.15</td>\n",
       "      <td>17.59</td>\n",
       "      <td>0</td>\n",
       "    </tr>\n",
       "  </tbody>\n",
       "</table>\n",
       "<p>1000 rows × 11 columns</p>\n",
       "</div>"
      ],
      "text/plain": [
       "        branch         city customer_type  gender  product_name  \\\n",
       "sale_id                                                           \n",
       "1            A     New York        Member    Male       Shampoo   \n",
       "2            B  Los Angeles        Normal  Female      Notebook   \n",
       "3            A     New York        Member  Female         Apple   \n",
       "4            A      Chicago        Normal    Male     Detergent   \n",
       "5            B  Los Angeles        Member  Female  Orange Juice   \n",
       "...        ...          ...           ...     ...           ...   \n",
       "996          A     New York        Member  Female       Shampoo   \n",
       "997          A     New York        Member    Male     Detergent   \n",
       "998          A     New York        Member  Female       Shampoo   \n",
       "999          A     New York        Member  Female       Shampoo   \n",
       "1000         A     New York        Normal    Male  Orange Juice   \n",
       "\n",
       "        product_category  unit_price  quantity   tax  total_price  \\\n",
       "sale_id                                                             \n",
       "1          Personal Care        5.50         3  1.16        17.66   \n",
       "2             Stationery        2.75        10  1.93        29.43   \n",
       "3                 Fruits        1.20        15  1.26        19.26   \n",
       "4              Household        7.80         5  2.73        41.73   \n",
       "5              Beverages        3.50         7  1.72        26.22   \n",
       "...                  ...         ...       ...   ...          ...   \n",
       "996           Stationery        1.55        11  1.19        18.24   \n",
       "997        Personal Care        2.44         7  1.20        18.28   \n",
       "998           Stationery       17.92         2  2.51        38.35   \n",
       "999            Beverages       17.41         4  4.87        74.51   \n",
       "1000          Stationery        4.11         4  1.15        17.59   \n",
       "\n",
       "         reward_points  \n",
       "sale_id                 \n",
       "1                    1  \n",
       "2                    0  \n",
       "3                    1  \n",
       "4                    0  \n",
       "5                    2  \n",
       "...                ...  \n",
       "996                  1  \n",
       "997                  1  \n",
       "998                  3  \n",
       "999                  7  \n",
       "1000                 0  \n",
       "\n",
       "[1000 rows x 11 columns]"
      ]
     },
     "execution_count": 2,
     "metadata": {},
     "output_type": "execute_result"
    }
   ],
   "source": [
    "df_ventas = pd.read_csv('archive/sales.csv', index_col='sale_id')\n",
    "df_ventas"
   ]
  },
  {
   "cell_type": "markdown",
   "id": "37601fdf",
   "metadata": {},
   "source": [
    "## .2. Exploración"
   ]
  },
  {
   "cell_type": "code",
   "execution_count": 3,
   "id": "cc162cd2",
   "metadata": {},
   "outputs": [
    {
     "name": "stdout",
     "output_type": "stream",
     "text": [
      "<class 'pandas.core.frame.DataFrame'>\n",
      "Index: 1000 entries, 1 to 1000\n",
      "Data columns (total 11 columns):\n",
      " #   Column            Non-Null Count  Dtype  \n",
      "---  ------            --------------  -----  \n",
      " 0   branch            1000 non-null   object \n",
      " 1   city              1000 non-null   object \n",
      " 2   customer_type     1000 non-null   object \n",
      " 3   gender            1000 non-null   object \n",
      " 4   product_name      1000 non-null   object \n",
      " 5   product_category  1000 non-null   object \n",
      " 6   unit_price        1000 non-null   float64\n",
      " 7   quantity          1000 non-null   int64  \n",
      " 8   tax               1000 non-null   float64\n",
      " 9   total_price       1000 non-null   float64\n",
      " 10  reward_points     1000 non-null   int64  \n",
      "dtypes: float64(3), int64(2), object(6)\n",
      "memory usage: 93.8+ KB\n"
     ]
    }
   ],
   "source": [
    "df_ventas.info()"
   ]
  },
  {
   "cell_type": "markdown",
   "id": "f2cb94db",
   "metadata": {},
   "source": [
    ".info() muestra que no hay nulos en la base de datos.\n",
    "\n",
    "Además obtenemos las \n",
    "* variables categóricas [branch, city, customer_type, gender, product_name, product_category]\n",
    "* variables numéricas [unit_price, quantity, tax, total_price, reward_points]"
   ]
  },
  {
   "cell_type": "code",
   "execution_count": 4,
   "id": "e081a090",
   "metadata": {},
   "outputs": [
    {
     "data": {
      "text/html": [
       "<div>\n",
       "<style scoped>\n",
       "    .dataframe tbody tr th:only-of-type {\n",
       "        vertical-align: middle;\n",
       "    }\n",
       "\n",
       "    .dataframe tbody tr th {\n",
       "        vertical-align: top;\n",
       "    }\n",
       "\n",
       "    .dataframe thead th {\n",
       "        text-align: right;\n",
       "    }\n",
       "</style>\n",
       "<table border=\"1\" class=\"dataframe\">\n",
       "  <thead>\n",
       "    <tr style=\"text-align: right;\">\n",
       "      <th></th>\n",
       "      <th>unit_price</th>\n",
       "      <th>quantity</th>\n",
       "      <th>tax</th>\n",
       "      <th>total_price</th>\n",
       "      <th>reward_points</th>\n",
       "    </tr>\n",
       "  </thead>\n",
       "  <tbody>\n",
       "    <tr>\n",
       "      <th>count</th>\n",
       "      <td>1000.000000</td>\n",
       "      <td>1000.000000</td>\n",
       "      <td>1000.000000</td>\n",
       "      <td>1000.000000</td>\n",
       "      <td>1000.000000</td>\n",
       "    </tr>\n",
       "    <tr>\n",
       "      <th>mean</th>\n",
       "      <td>10.836110</td>\n",
       "      <td>10.337000</td>\n",
       "      <td>7.758010</td>\n",
       "      <td>118.583900</td>\n",
       "      <td>6.057000</td>\n",
       "    </tr>\n",
       "    <tr>\n",
       "      <th>std</th>\n",
       "      <td>5.775924</td>\n",
       "      <td>6.029908</td>\n",
       "      <td>6.538066</td>\n",
       "      <td>99.936441</td>\n",
       "      <td>9.350464</td>\n",
       "    </tr>\n",
       "    <tr>\n",
       "      <th>min</th>\n",
       "      <td>1.020000</td>\n",
       "      <td>1.000000</td>\n",
       "      <td>0.080000</td>\n",
       "      <td>1.210000</td>\n",
       "      <td>0.000000</td>\n",
       "    </tr>\n",
       "    <tr>\n",
       "      <th>25%</th>\n",
       "      <td>5.867500</td>\n",
       "      <td>5.000000</td>\n",
       "      <td>2.510000</td>\n",
       "      <td>38.380000</td>\n",
       "      <td>0.000000</td>\n",
       "    </tr>\n",
       "    <tr>\n",
       "      <th>50%</th>\n",
       "      <td>10.615000</td>\n",
       "      <td>10.000000</td>\n",
       "      <td>5.870000</td>\n",
       "      <td>89.705000</td>\n",
       "      <td>0.000000</td>\n",
       "    </tr>\n",
       "    <tr>\n",
       "      <th>75%</th>\n",
       "      <td>15.882500</td>\n",
       "      <td>16.000000</td>\n",
       "      <td>11.522500</td>\n",
       "      <td>176.072500</td>\n",
       "      <td>10.000000</td>\n",
       "    </tr>\n",
       "    <tr>\n",
       "      <th>max</th>\n",
       "      <td>20.980000</td>\n",
       "      <td>20.000000</td>\n",
       "      <td>28.390000</td>\n",
       "      <td>433.990000</td>\n",
       "      <td>43.000000</td>\n",
       "    </tr>\n",
       "  </tbody>\n",
       "</table>\n",
       "</div>"
      ],
      "text/plain": [
       "        unit_price     quantity          tax  total_price  reward_points\n",
       "count  1000.000000  1000.000000  1000.000000  1000.000000    1000.000000\n",
       "mean     10.836110    10.337000     7.758010   118.583900       6.057000\n",
       "std       5.775924     6.029908     6.538066    99.936441       9.350464\n",
       "min       1.020000     1.000000     0.080000     1.210000       0.000000\n",
       "25%       5.867500     5.000000     2.510000    38.380000       0.000000\n",
       "50%      10.615000    10.000000     5.870000    89.705000       0.000000\n",
       "75%      15.882500    16.000000    11.522500   176.072500      10.000000\n",
       "max      20.980000    20.000000    28.390000   433.990000      43.000000"
      ]
     },
     "execution_count": 4,
     "metadata": {},
     "output_type": "execute_result"
    }
   ],
   "source": [
    "df_ventas.describe()"
   ]
  },
  {
   "cell_type": "code",
   "execution_count": 5,
   "id": "7f91dbee",
   "metadata": {},
   "outputs": [
    {
     "data": {
      "text/html": [
       "<div>\n",
       "<style scoped>\n",
       "    .dataframe tbody tr th:only-of-type {\n",
       "        vertical-align: middle;\n",
       "    }\n",
       "\n",
       "    .dataframe tbody tr th {\n",
       "        vertical-align: top;\n",
       "    }\n",
       "\n",
       "    .dataframe thead th {\n",
       "        text-align: right;\n",
       "    }\n",
       "</style>\n",
       "<table border=\"1\" class=\"dataframe\">\n",
       "  <thead>\n",
       "    <tr style=\"text-align: right;\">\n",
       "      <th></th>\n",
       "      <th>branch</th>\n",
       "      <th>city</th>\n",
       "      <th>customer_type</th>\n",
       "      <th>gender</th>\n",
       "      <th>product_name</th>\n",
       "      <th>product_category</th>\n",
       "    </tr>\n",
       "  </thead>\n",
       "  <tbody>\n",
       "    <tr>\n",
       "      <th>count</th>\n",
       "      <td>1000</td>\n",
       "      <td>1000</td>\n",
       "      <td>1000</td>\n",
       "      <td>1000</td>\n",
       "      <td>1000</td>\n",
       "      <td>1000</td>\n",
       "    </tr>\n",
       "    <tr>\n",
       "      <th>unique</th>\n",
       "      <td>2</td>\n",
       "      <td>3</td>\n",
       "      <td>2</td>\n",
       "      <td>2</td>\n",
       "      <td>5</td>\n",
       "      <td>5</td>\n",
       "    </tr>\n",
       "    <tr>\n",
       "      <th>top</th>\n",
       "      <td>A</td>\n",
       "      <td>New York</td>\n",
       "      <td>Member</td>\n",
       "      <td>Male</td>\n",
       "      <td>Shampoo</td>\n",
       "      <td>Fruits</td>\n",
       "    </tr>\n",
       "    <tr>\n",
       "      <th>freq</th>\n",
       "      <td>674</td>\n",
       "      <td>344</td>\n",
       "      <td>516</td>\n",
       "      <td>528</td>\n",
       "      <td>224</td>\n",
       "      <td>209</td>\n",
       "    </tr>\n",
       "  </tbody>\n",
       "</table>\n",
       "</div>"
      ],
      "text/plain": [
       "       branch      city customer_type gender product_name product_category\n",
       "count    1000      1000          1000   1000         1000             1000\n",
       "unique      2         3             2      2            5                5\n",
       "top         A  New York        Member   Male      Shampoo           Fruits\n",
       "freq      674       344           516    528          224              209"
      ]
     },
     "execution_count": 5,
     "metadata": {},
     "output_type": "execute_result"
    }
   ],
   "source": [
    "df_ventas.describe(include='object')"
   ]
  },
  {
   "cell_type": "markdown",
   "id": "7a76fbe2",
   "metadata": {},
   "source": [
    "Información que nos brinda .describe().\n",
    "\n",
    "* La base contiene 1000 registros de ventas. \n",
    "* Los precios unitarios (unit_price) van de 1 a 21, la cantidad (quantity) de 1 a 20 y el precio total(total_price) promedio es de aproximadamente 118. \n",
    "* En los datos categóricos, la sucursal más frecuente es la A (674 transacciones) y la ciudad con más registros es Nueva York (344). \n",
    "* Existe un balance entre clientes Member y Normal, así como entre géneros\n",
    "\n",
    "Además el describe categórico permite observar las categorías únicas presentes, y hay un detalle que llama la atención en \"branch\", ya que la documentación del dataset menciona 3 sucursales, y en los datos cargados solo se encuentran 2 categorías para branch. Esto sugiere que la sucursal C no tiene registros en esta muestra o que hubo un error en la generación de los datos."
   ]
  },
  {
   "cell_type": "code",
   "execution_count": 6,
   "id": "8dd635c2",
   "metadata": {},
   "outputs": [
    {
     "name": "stdout",
     "output_type": "stream",
     "text": [
      "['A' 'B']\n"
     ]
    },
    {
     "data": {
      "text/plain": [
       "branch\n",
       "A    674\n",
       "B    326\n",
       "Name: count, dtype: int64"
      ]
     },
     "execution_count": 6,
     "metadata": {},
     "output_type": "execute_result"
    }
   ],
   "source": [
    "print(df_ventas['branch'].unique())\n",
    "df_ventas['branch'].value_counts()"
   ]
  },
  {
   "cell_type": "code",
   "execution_count": 7,
   "id": "87386f7b",
   "metadata": {},
   "outputs": [
    {
     "data": {
      "text/plain": [
       "np.int64(0)"
      ]
     },
     "execution_count": 7,
     "metadata": {},
     "output_type": "execute_result"
    }
   ],
   "source": [
    "df_ventas.duplicated().sum()"
   ]
  },
  {
   "cell_type": "markdown",
   "id": "c548a685",
   "metadata": {},
   "source": [
    "No hay valores nulos ni duplicados. Lo cual es esperable en una base de datos ficticia."
   ]
  },
  {
   "cell_type": "markdown",
   "id": "a0dec21d",
   "metadata": {},
   "source": [
    "# 3️⃣. Limpieza y transformación"
   ]
  },
  {
   "cell_type": "markdown",
   "id": "9dbe023d",
   "metadata": {},
   "source": [
    "## .1. Revisión de columna branch"
   ]
  },
  {
   "cell_type": "markdown",
   "id": "6a452ea6",
   "metadata": {},
   "source": [
    "Dado al hallazgo anterior en la columna \"branch\", se procede a revisar minusciosamente esta columna junto con \"city\", ya que se esperaba que existira una sucursal en cada ciudad.\n",
    "\n",
    "Como el describe categórico mostró que city si posee las 3 categorías espradas y las ciudades son New York, Chicago, Los Angeles y se sabe que ninguna de ellas es una subciudad de otra, entonces se revisará cual letra se le ha asignado a cada ciudad en la sucursal."
   ]
  },
  {
   "cell_type": "code",
   "execution_count": 8,
   "id": "44e739f3",
   "metadata": {},
   "outputs": [
    {
     "data": {
      "text/html": [
       "<div>\n",
       "<style scoped>\n",
       "    .dataframe tbody tr th:only-of-type {\n",
       "        vertical-align: middle;\n",
       "    }\n",
       "\n",
       "    .dataframe tbody tr th {\n",
       "        vertical-align: top;\n",
       "    }\n",
       "\n",
       "    .dataframe thead th {\n",
       "        text-align: right;\n",
       "    }\n",
       "</style>\n",
       "<table border=\"1\" class=\"dataframe\">\n",
       "  <thead>\n",
       "    <tr style=\"text-align: right;\">\n",
       "      <th></th>\n",
       "      <th>branch</th>\n",
       "      <th>customer_type</th>\n",
       "      <th>gender</th>\n",
       "      <th>product_name</th>\n",
       "      <th>product_category</th>\n",
       "      <th>unit_price</th>\n",
       "      <th>quantity</th>\n",
       "      <th>tax</th>\n",
       "      <th>total_price</th>\n",
       "      <th>reward_points</th>\n",
       "    </tr>\n",
       "    <tr>\n",
       "      <th>city</th>\n",
       "      <th></th>\n",
       "      <th></th>\n",
       "      <th></th>\n",
       "      <th></th>\n",
       "      <th></th>\n",
       "      <th></th>\n",
       "      <th></th>\n",
       "      <th></th>\n",
       "      <th></th>\n",
       "      <th></th>\n",
       "    </tr>\n",
       "  </thead>\n",
       "  <tbody>\n",
       "    <tr>\n",
       "      <th>Chicago</th>\n",
       "      <td>330</td>\n",
       "      <td>330</td>\n",
       "      <td>330</td>\n",
       "      <td>330</td>\n",
       "      <td>330</td>\n",
       "      <td>330</td>\n",
       "      <td>330</td>\n",
       "      <td>330</td>\n",
       "      <td>330</td>\n",
       "      <td>330</td>\n",
       "    </tr>\n",
       "    <tr>\n",
       "      <th>Los Angeles</th>\n",
       "      <td>326</td>\n",
       "      <td>326</td>\n",
       "      <td>326</td>\n",
       "      <td>326</td>\n",
       "      <td>326</td>\n",
       "      <td>326</td>\n",
       "      <td>326</td>\n",
       "      <td>326</td>\n",
       "      <td>326</td>\n",
       "      <td>326</td>\n",
       "    </tr>\n",
       "    <tr>\n",
       "      <th>New York</th>\n",
       "      <td>344</td>\n",
       "      <td>344</td>\n",
       "      <td>344</td>\n",
       "      <td>344</td>\n",
       "      <td>344</td>\n",
       "      <td>344</td>\n",
       "      <td>344</td>\n",
       "      <td>344</td>\n",
       "      <td>344</td>\n",
       "      <td>344</td>\n",
       "    </tr>\n",
       "  </tbody>\n",
       "</table>\n",
       "</div>"
      ],
      "text/plain": [
       "             branch  customer_type  gender  product_name  product_category  \\\n",
       "city                                                                         \n",
       "Chicago         330            330     330           330               330   \n",
       "Los Angeles     326            326     326           326               326   \n",
       "New York        344            344     344           344               344   \n",
       "\n",
       "             unit_price  quantity  tax  total_price  reward_points  \n",
       "city                                                                \n",
       "Chicago             330       330  330          330            330  \n",
       "Los Angeles         326       326  326          326            326  \n",
       "New York            344       344  344          344            344  "
      ]
     },
     "execution_count": 8,
     "metadata": {},
     "output_type": "execute_result"
    }
   ],
   "source": [
    "df_ventas.groupby('city').count()"
   ]
  },
  {
   "cell_type": "code",
   "execution_count": 9,
   "id": "7c850cf9",
   "metadata": {},
   "outputs": [
    {
     "data": {
      "text/plain": [
       "branch\n",
       "A    674\n",
       "B    326\n",
       "Name: count, dtype: int64"
      ]
     },
     "execution_count": 9,
     "metadata": {},
     "output_type": "execute_result"
    }
   ],
   "source": [
    "df_ventas['branch'].value_counts()"
   ]
  },
  {
   "cell_type": "markdown",
   "id": "d7cced3a",
   "metadata": {},
   "source": [
    "En la agrupación anterior se puede observar que cada ciudad tiene asociada cierta cantidad de datos:\n",
    "\n",
    "| City| Cantidad compras |\n",
    "|---|---|\n",
    "| Chicago | 330 |\n",
    "| Los Angeles | 326 |\n",
    "| New York | 344 |\n",
    "\n",
    "Ahora observemos la tabla obtenida de branch al contar las 2 categorías marcadas\n",
    "\n",
    "| branch | Cantidad compras |\n",
    "|---|---|\n",
    "| A |   674 |\n",
    "| B |   326 |\n",
    "\n",
    "Dado que la suma de Chicago (330) y New York (344) coincide exactamente con el valor de la categoría A (674), y que **Los Angeles** coincide con la **categoría B** (326), se concluye que hubo un error de codificación. La reasignación más coherente es:\n",
    "\n",
    "* Chicago → A\n",
    "* Los Angeles → B\n",
    "* New York → C\n",
    "\n",
    "Esta corrección se asume con base en la distribución de los datos, para poder continuar con un análisis más consistente.\n",
    "\n",
    "Por lo que quedaría de la siguiente forma:\n",
    "\n",
    "| branch | city | Cantidad compras |\n",
    "|---|---|---|\n",
    "| A | Chicago | 330 |\n",
    "| B | Los Angeles | 326 |\n",
    "| C | New York | 344 |"
   ]
  },
  {
   "cell_type": "markdown",
   "id": "107d3ea8",
   "metadata": {},
   "source": [
    "## .2. Transformación de columna branch"
   ]
  },
  {
   "cell_type": "code",
   "execution_count": null,
   "id": "8bee6f64",
   "metadata": {},
   "outputs": [
    {
     "data": {
      "text/plain": [
       "branch\n",
       "C    344\n",
       "A    330\n",
       "B    326\n",
       "Name: count, dtype: int64"
      ]
     },
     "execution_count": 14,
     "metadata": {},
     "output_type": "execute_result"
    }
   ],
   "source": [
    "df_ventas.branch = df_ventas.city.map({'Chicago': 'A', 'Los Angeles': 'B', 'New York': 'C'})\n",
    "\n",
    "df_ventas.branch.value_counts()"
   ]
  },
  {
   "cell_type": "markdown",
   "id": "4808af6f",
   "metadata": {},
   "source": [
    "## .3. Revisión de columna total_price"
   ]
  },
  {
   "cell_type": "code",
   "execution_count": null,
   "id": "e8fc5e19",
   "metadata": {},
   "outputs": [
    {
     "data": {
      "text/plain": [
       "count    1000.000000\n",
       "mean        0.000198\n",
       "std         0.002927\n",
       "min        -0.004900\n",
       "25%        -0.002400\n",
       "50%         0.000200\n",
       "75%         0.002800\n",
       "max         0.005000\n",
       "dtype: float64"
      ]
     },
     "execution_count": 16,
     "metadata": {},
     "output_type": "execute_result"
    }
   ],
   "source": [
    "expected_total = df_ventas['unit_price'] * df_ventas['quantity'] * 1.07\n",
    "(df_ventas['total_price'] - expected_total).describe()"
   ]
  },
  {
   "cell_type": "markdown",
   "id": "c815a2d7",
   "metadata": {},
   "source": [
    "En la verificación anterior se confirma que los valores de la columna ```total_price``` son consistentes con el cálculo esperado a partir de las columnas ```unit_price```, ```quantity``` y ```tax``` de la base de datos.\n",
    "\n",
    "Además, la diferencia observada en la validación del cálculo de ```total_price``` se debe a imprecisiones de punto flotante al operar decimales en Python."
   ]
  },
  {
   "cell_type": "markdown",
   "id": "2ef12c57",
   "metadata": {},
   "source": [
    "# 4️⃣. Análisis exploratorio"
   ]
  },
  {
   "cell_type": "markdown",
   "id": "d285d162",
   "metadata": {},
   "source": [
    "# 5️⃣. Visualizaciones"
   ]
  },
  {
   "cell_type": "markdown",
   "id": "4c9a673b",
   "metadata": {},
   "source": [
    "# 6️⃣. Conclusiones"
   ]
  },
  {
   "cell_type": "markdown",
   "id": "7e0071c9",
   "metadata": {},
   "source": [
    "Se notó en la carga y exploración de datos que la base en una categoría tiene una limitación, ya que se esperaba que la columna \"branch\" tuviera 3 categorías, pero se notó que solo posee 2. Por lo que limita el análisis de la tercer sucursal."
   ]
  }
 ],
 "metadata": {
  "kernelspec": {
   "display_name": "Python 3",
   "language": "python",
   "name": "python3"
  },
  "language_info": {
   "codemirror_mode": {
    "name": "ipython",
    "version": 3
   },
   "file_extension": ".py",
   "mimetype": "text/x-python",
   "name": "python",
   "nbconvert_exporter": "python",
   "pygments_lexer": "ipython3",
   "version": "3.12.2"
  }
 },
 "nbformat": 4,
 "nbformat_minor": 5
}
